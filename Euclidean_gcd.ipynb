{
 "cells": [
  {
   "cell_type": "code",
   "execution_count": null,
   "metadata": {},
   "outputs": [],
   "source": [
    "# Python code to demonstrate naive \n",
    "# method to compute gcd ( Euclidean algo ) \n",
    "  \n",
    "def computeGCD(x, y): \n",
    "  \n",
    "   while(y): \n",
    "        x, y = y, x % y \n",
    "  \n",
    "   return x \n",
    "\n",
    "x,y=map(int,input().split())\n",
    "print(computeGCD(x, y))"
   ]
  }
 ],
 "metadata": {
  "kernelspec": {
   "display_name": "Python 3",
   "language": "python",
   "name": "python3"
  },
  "language_info": {
   "codemirror_mode": {
    "name": "ipython",
    "version": 3
   },
   "file_extension": ".py",
   "mimetype": "text/x-python",
   "name": "python",
   "nbconvert_exporter": "python",
   "pygments_lexer": "ipython3",
   "version": "3.7.0"
  }
 },
 "nbformat": 4,
 "nbformat_minor": 2
}
